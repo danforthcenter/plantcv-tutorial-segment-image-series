{
 "cells": [
  {
   "cell_type": "markdown",
   "id": "01df8bfb",
   "metadata": {},
   "source": [
    "# Segment image series tutorial - This tutorial is a work in progress\n",
    "\n",
    "The segment image series function helps to separate moderately overlapping plants in a set of multi-plant images taken over time. \n",
    "\n",
    "For time series where the plants do not overlap refer to the following tutorials ____.\n",
    "\n",
    "In order to analyze an image series where plants overlap the basic steps would be:\n",
    "\n",
    "1. Segment the plant from the background to generate a series of masks and save them in a directory. See tutorial ____. \n",
    "\n",
    "2. Apply the steps in this tutorial in order to obtain individual labels for each plant in all the images.\n",
    "\n",
    "3. Run a workflow that loads the labels and uses them to analyze each individual plant."
   ]
  },
  {
   "cell_type": "code",
   "execution_count": 1,
   "id": "0568ff45",
   "metadata": {},
   "outputs": [],
   "source": [
    "# Set the notebook display method\n",
    "# inline = embedded plots, notebook = interactive plots\n",
    "%matplotlib inline"
   ]
  },
  {
   "cell_type": "code",
   "execution_count": 2,
   "id": "7fb874e9",
   "metadata": {},
   "outputs": [],
   "source": [
    "# Import libraries\n",
    "import os\n",
    "import numpy as np\n",
    "\n",
    "from plantcv import plantcv as pcv \n",
    "from read_dataset import read_dataset\n"
   ]
  },
  {
   "cell_type": "code",
   "execution_count": 3,
   "id": "05b5a15b",
   "metadata": {},
   "outputs": [],
   "source": [
    "# Input image into self.image (include file path if image is not in \n",
    "# the same folder as jupyter notebook)\n",
    "\n",
    "# Set self.debug to \"plot\" so that image outputs for each step is shown\n",
    "# once cell is run in jupyter notebooks (recommended)\n",
    "\n",
    "class options:\n",
    "    def __init__(self):        \n",
    "        self.image = \"\"\n",
    "        self.debug = \"print\"\n",
    "        self.writeimg = False\n",
    "        self.result = \"segmentation\"\n",
    "        self.outdir = \"./out/\""
   ]
  },
  {
   "cell_type": "code",
   "execution_count": 4,
   "id": "e6bc2f29",
   "metadata": {},
   "outputs": [],
   "source": [
    "# Get options\n",
    "args = options()\n",
    "\n",
    "# Set debug to the global parameter\n",
    "pcv.params.debug = args.debug\n",
    "\n",
    "# set the output directory to the global parameter\n",
    "pcv.params.debug_outdir = args.outdir\n",
    "\n",
    "# Set plotting size (default = 100)\n",
    "pcv.params.dpi = 100\n",
    "\n",
    "# Increase text size and thickness to make labels clearer\n",
    "# (size may need to be altered based on original image size)\n",
    "pcv.params.text_size = 10\n",
    "pcv.params.text_thickness = 20"
   ]
  },
  {
   "cell_type": "markdown",
   "id": "413f3947",
   "metadata": {},
   "source": [
    "## Create lists of paths to images and masks"
   ]
  },
  {
   "cell_type": "code",
   "execution_count": 5,
   "id": "1f0b5ac3",
   "metadata": {},
   "outputs": [],
   "source": [
    "images_directory = './img/'\n",
    "masks_directory =  './mask/'\n",
    "\n",
    "images_paths_sort = read_dataset(source_path=images_directory, sort=True)\n",
    "# images_paths_sort = sorted(images_paths)\n",
    "masks_paths_sort = read_dataset(source_path=masks_directory, sort=True)\n",
    "# masks_paths_sort = sorted(masks_paths)"
   ]
  },
  {
   "cell_type": "markdown",
   "id": "4483edb6",
   "metadata": {},
   "source": [
    "## Create region of interest in one of the images"
   ]
  },
  {
   "cell_type": "code",
   "execution_count": 6,
   "id": "e45b0e32",
   "metadata": {},
   "outputs": [],
   "source": [
    "i = 0\n",
    "img0_path = images_paths_sort[i]\n",
    "img0, _, _ = pcv.readimage(filename=img0_path)"
   ]
  },
  {
   "cell_type": "code",
   "execution_count": 7,
   "id": "8e564b14",
   "metadata": {},
   "outputs": [],
   "source": [
    "rois, roi_hier = pcv.roi.multi(img=img0, coord=(285,70), radius=23, spacing=(145, 155), nrows=4, ncols=3)"
   ]
  },
  {
   "cell_type": "code",
   "execution_count": 8,
   "id": "d6772a95",
   "metadata": {},
   "outputs": [],
   "source": [
    "valid_rois = [rois[i] for i in range(1,len(rois),2)]"
   ]
  },
  {
   "cell_type": "code",
   "execution_count": 9,
   "id": "919bef84",
   "metadata": {
    "scrolled": false
   },
   "outputs": [],
   "source": [
    "out = pcv.segment_image_series(images_paths_sort, masks_paths_sort, rois=valid_rois , save_labels=False, ksize=3)"
   ]
  },
  {
   "cell_type": "code",
   "execution_count": null,
   "id": "0dbef524",
   "metadata": {},
   "outputs": [],
   "source": []
  }
 ],
 "metadata": {
  "kernelspec": {
   "display_name": "Python 3",
   "language": "python",
   "name": "python3"
  },
  "language_info": {
   "codemirror_mode": {
    "name": "ipython",
    "version": 3
   },
   "file_extension": ".py",
   "mimetype": "text/x-python",
   "name": "python",
   "nbconvert_exporter": "python",
   "pygments_lexer": "ipython3",
   "version": "3.7.10"
  }
 },
 "nbformat": 4,
 "nbformat_minor": 5
}
